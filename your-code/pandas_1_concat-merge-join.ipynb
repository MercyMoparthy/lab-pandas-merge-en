{
 "cells": [
  {
   "cell_type": "code",
   "execution_count": 1,
   "metadata": {},
   "outputs": [],
   "source": [
    "import pandas as pd"
   ]
  },
  {
   "cell_type": "markdown",
   "metadata": {},
   "source": [
    "# Introduction\n",
    "\n",
    "In this lab we want you to learn and investigate some concepts in the context of Pandas: **concatenating**, **joining**, and **merging**. We want to review these concepts because it will make the subsequent work in transforming the datasets a lot more efficient."
   ]
  },
  {
   "cell_type": "markdown",
   "metadata": {},
   "source": [
    "# Concatenating, Joining, & Merging Tutorial\n",
    "\n",
    "\n",
    "## Concatenating\n",
    "\n",
    "Concatenating two dataframes combines two dataframes so that we append the rows of one dataframe at the end of the other. Our column names have to be identical for this function to work properly.\n",
    "\n",
    "Below is an example of the `concat()` function in pandas"
   ]
  },
  {
   "cell_type": "markdown",
   "metadata": {},
   "source": [
    "https://pandas.pydata.org/docs/reference/api/pandas.concat.html"
   ]
  },
  {
   "cell_type": "code",
   "execution_count": 5,
   "metadata": {
    "scrolled": true
   },
   "outputs": [
    {
     "name": "stdout",
     "output_type": "stream",
     "text": [
      "    A   B   C\n",
      "0  a0  b0  c0\n",
      "1  a1  b1  c1\n",
      "2  a2  b2  c2 \n",
      "---\n",
      "     A   B   C\n",
      "3  a3  b3  c3\n",
      "4  a4  b4  c4\n",
      "5  a5  b5  c5 \n",
      "---\n",
      "     D   E   F\n",
      "0  d0  e0  f0\n",
      "1  d1  e1  f1\n",
      "2  d2  e2  f2 \n",
      "---\n",
      "     D   E   F\n",
      "3  d3  e3  f3\n",
      "4  d4  e4  f4\n",
      "5  d5  e5  f5\n"
     ]
    }
   ],
   "source": [
    "df1 = pd.DataFrame({'A': ['a'+str(x) for x in range(3)],\n",
    "                    'B': ['b'+str(x) for x in range(3)],\n",
    "                    'C': ['c'+str(x) for x in range(3)]},\n",
    "                     index=[0, 1, 2])\n",
    "\n",
    "df2 = pd.DataFrame({'A': ['a'+str(x) for x in range(3, 6)],\n",
    "                    'B': ['b'+str(x) for x in range(3, 6)],\n",
    "                    'C': ['c'+str(x) for x in range(3, 6)]},\n",
    "                     index=[3, 4, 5]) \n",
    "\n",
    "df3 = pd.DataFrame({'D': ['d'+str(x) for x in range(3)],\n",
    "                    'E': ['e'+str(x) for x in range(3)],\n",
    "                    'F': ['f'+str(x) for x in range(3)]},\n",
    "                     index=[0, 1, 2]) \n",
    "\n",
    "df4 = pd.DataFrame({'D': ['d'+str(x) for x in range(3, 6)],\n",
    "                    'E': ['e'+str(x) for x in range(3, 6)],\n",
    "                    'F': ['f'+str(x) for x in range(3, 6)]},\n",
    "                     index=[3, 4, 5]) \n",
    "\n",
    "print(df1, '\\n---\\n', df2, '\\n---\\n', df3, '\\n---\\n',df4)"
   ]
  },
  {
   "cell_type": "markdown",
   "metadata": {},
   "source": [
    "Let's try concatenating `df1` and `df2`, as well as `df3` and `df4`. "
   ]
  },
  {
   "cell_type": "code",
   "execution_count": null,
   "metadata": {},
   "outputs": [
    {
     "name": "stdout",
     "output_type": "stream",
     "text": [
      "    A   B   C\n",
      "0  a0  b0  c0\n",
      "1  a1  b1  c1\n",
      "2  a2  b2  c2\n",
      "3  a3  b3  c3\n",
      "4  a4  b4  c4\n",
      "5  a5  b5  c5\n",
      "    D   E   F\n",
      "0  d0  e0  f0\n",
      "1  d1  e1  f1\n",
      "2  d2  e2  f2\n",
      "3  d3  e3  f3\n",
      "4  d4  e4  f4\n",
      "5  d5  e5  f5\n",
      "Index([0, 1, 2, 3, 4, 5], dtype='int64')\n",
      "Index([0, 1, 2, 3, 4, 5], dtype='int64')\n"
     ]
    }
   ],
   "source": [
    "# your code here\n",
    "data_concat1 = pd.concat([df1, df2], axis=0,sort=False)\n",
    "data_concat2 = pd.concat([df3, df4], axis=0,sort=False)\n",
    "print(data_concat1)\n",
    "print(data_concat2)"
   ]
  },
  {
   "cell_type": "markdown",
   "metadata": {},
   "source": [
    "From the output above, you see the second dataframe is appended at the bottom of the first dataframe.\n",
    "\n",
    "Now let's try concatenating `df1`, `df2`, `df3`, and `df4` all together.\n",
    "\n",
    "Note that the `sort=False` param is supplied to silence a warning message on a future Pandas change. It does not make any difference on the output."
   ]
  },
  {
   "cell_type": "code",
   "execution_count": 65,
   "metadata": {},
   "outputs": [
    {
     "name": "stdout",
     "output_type": "stream",
     "text": [
      "     A    B    C    D    E    F\n",
      "0   a0   b0   c0  NaN  NaN  NaN\n",
      "1   a1   b1   c1  NaN  NaN  NaN\n",
      "2   a2   b2   c2  NaN  NaN  NaN\n",
      "3   a3   b3   c3  NaN  NaN  NaN\n",
      "4   a4   b4   c4  NaN  NaN  NaN\n",
      "5   a5   b5   c5  NaN  NaN  NaN\n",
      "0  NaN  NaN  NaN   d0   e0   f0\n",
      "1  NaN  NaN  NaN   d1   e1   f1\n",
      "2  NaN  NaN  NaN   d2   e2   f2\n",
      "3  NaN  NaN  NaN   d3   e3   f3\n",
      "4  NaN  NaN  NaN   d4   e4   f4\n",
      "5  NaN  NaN  NaN   d5   e5   f5\n",
      "     A    B    C    D    E    F\n",
      "0   a0   b0   c0  NaN  NaN  NaN\n",
      "1   a1   b1   c1  NaN  NaN  NaN\n",
      "2   a2   b2   c2  NaN  NaN  NaN\n",
      "3   a3   b3   c3  NaN  NaN  NaN\n",
      "4   a4   b4   c4  NaN  NaN  NaN\n",
      "5   a5   b5   c5  NaN  NaN  NaN\n",
      "0  NaN  NaN  NaN   d0   e0   f0\n",
      "1  NaN  NaN  NaN   d1   e1   f1\n",
      "2  NaN  NaN  NaN   d2   e2   f2\n",
      "3  NaN  NaN  NaN   d3   e3   f3\n",
      "4  NaN  NaN  NaN   d4   e4   f4\n",
      "5  NaN  NaN  NaN   d5   e5   f5\n"
     ]
    }
   ],
   "source": [
    "# your code here trying both axis[0] and axis[1]\n",
    "data_concat3 = pd.concat([df1, df2, df3, df4] , axis=0 , sort=False)\n",
    "data_concat4 = pd.concat([df1, df2, df3, df4] , axis=0 , sort=False)\n",
    "print(data_concat3)\n",
    "print(data_concat4)"
   ]
  },
  {
   "cell_type": "markdown",
   "metadata": {},
   "source": [
    "What do we find?\n",
    "\n",
    "* Pandas' `concat` method respects indexes of all axes. \n",
    "    * Because `df3` and `df4` have different column indexes than `df1` and `df2`, `concat` put them into different columns. \n",
    "    * `df3` and `df4` also retain their original row indexes of 0-5 instead of continuing from the last index of `df2`. \n",
    "* `concat` creates `NaN` at places where values are missing.\n",
    "\n",
    "Try also supplying `ignore_index=True` to `concat`. How is the output different?"
   ]
  },
  {
   "cell_type": "code",
   "execution_count": 17,
   "metadata": {},
   "outputs": [
    {
     "data": {
      "text/html": [
       "<div>\n",
       "<style scoped>\n",
       "    .dataframe tbody tr th:only-of-type {\n",
       "        vertical-align: middle;\n",
       "    }\n",
       "\n",
       "    .dataframe tbody tr th {\n",
       "        vertical-align: top;\n",
       "    }\n",
       "\n",
       "    .dataframe thead th {\n",
       "        text-align: right;\n",
       "    }\n",
       "</style>\n",
       "<table border=\"1\" class=\"dataframe\">\n",
       "  <thead>\n",
       "    <tr style=\"text-align: right;\">\n",
       "      <th></th>\n",
       "      <th>0</th>\n",
       "      <th>1</th>\n",
       "      <th>2</th>\n",
       "      <th>3</th>\n",
       "      <th>4</th>\n",
       "      <th>5</th>\n",
       "      <th>6</th>\n",
       "      <th>7</th>\n",
       "      <th>8</th>\n",
       "      <th>9</th>\n",
       "      <th>10</th>\n",
       "      <th>11</th>\n",
       "    </tr>\n",
       "  </thead>\n",
       "  <tbody>\n",
       "    <tr>\n",
       "      <th>0</th>\n",
       "      <td>a0</td>\n",
       "      <td>b0</td>\n",
       "      <td>c0</td>\n",
       "      <td>NaN</td>\n",
       "      <td>NaN</td>\n",
       "      <td>NaN</td>\n",
       "      <td>d0</td>\n",
       "      <td>e0</td>\n",
       "      <td>f0</td>\n",
       "      <td>NaN</td>\n",
       "      <td>NaN</td>\n",
       "      <td>NaN</td>\n",
       "    </tr>\n",
       "    <tr>\n",
       "      <th>1</th>\n",
       "      <td>a1</td>\n",
       "      <td>b1</td>\n",
       "      <td>c1</td>\n",
       "      <td>NaN</td>\n",
       "      <td>NaN</td>\n",
       "      <td>NaN</td>\n",
       "      <td>d1</td>\n",
       "      <td>e1</td>\n",
       "      <td>f1</td>\n",
       "      <td>NaN</td>\n",
       "      <td>NaN</td>\n",
       "      <td>NaN</td>\n",
       "    </tr>\n",
       "    <tr>\n",
       "      <th>2</th>\n",
       "      <td>a2</td>\n",
       "      <td>b2</td>\n",
       "      <td>c2</td>\n",
       "      <td>NaN</td>\n",
       "      <td>NaN</td>\n",
       "      <td>NaN</td>\n",
       "      <td>d2</td>\n",
       "      <td>e2</td>\n",
       "      <td>f2</td>\n",
       "      <td>NaN</td>\n",
       "      <td>NaN</td>\n",
       "      <td>NaN</td>\n",
       "    </tr>\n",
       "    <tr>\n",
       "      <th>3</th>\n",
       "      <td>NaN</td>\n",
       "      <td>NaN</td>\n",
       "      <td>NaN</td>\n",
       "      <td>a3</td>\n",
       "      <td>b3</td>\n",
       "      <td>c3</td>\n",
       "      <td>NaN</td>\n",
       "      <td>NaN</td>\n",
       "      <td>NaN</td>\n",
       "      <td>d3</td>\n",
       "      <td>e3</td>\n",
       "      <td>f3</td>\n",
       "    </tr>\n",
       "    <tr>\n",
       "      <th>4</th>\n",
       "      <td>NaN</td>\n",
       "      <td>NaN</td>\n",
       "      <td>NaN</td>\n",
       "      <td>a4</td>\n",
       "      <td>b4</td>\n",
       "      <td>c4</td>\n",
       "      <td>NaN</td>\n",
       "      <td>NaN</td>\n",
       "      <td>NaN</td>\n",
       "      <td>d4</td>\n",
       "      <td>e4</td>\n",
       "      <td>f4</td>\n",
       "    </tr>\n",
       "    <tr>\n",
       "      <th>5</th>\n",
       "      <td>NaN</td>\n",
       "      <td>NaN</td>\n",
       "      <td>NaN</td>\n",
       "      <td>a5</td>\n",
       "      <td>b5</td>\n",
       "      <td>c5</td>\n",
       "      <td>NaN</td>\n",
       "      <td>NaN</td>\n",
       "      <td>NaN</td>\n",
       "      <td>d5</td>\n",
       "      <td>e5</td>\n",
       "      <td>f5</td>\n",
       "    </tr>\n",
       "  </tbody>\n",
       "</table>\n",
       "</div>"
      ],
      "text/plain": [
       "    0    1    2    3    4    5    6    7    8    9    10   11\n",
       "0   a0   b0   c0  NaN  NaN  NaN   d0   e0   f0  NaN  NaN  NaN\n",
       "1   a1   b1   c1  NaN  NaN  NaN   d1   e1   f1  NaN  NaN  NaN\n",
       "2   a2   b2   c2  NaN  NaN  NaN   d2   e2   f2  NaN  NaN  NaN\n",
       "3  NaN  NaN  NaN   a3   b3   c3  NaN  NaN  NaN   d3   e3   f3\n",
       "4  NaN  NaN  NaN   a4   b4   c4  NaN  NaN  NaN   d4   e4   f4\n",
       "5  NaN  NaN  NaN   a5   b5   c5  NaN  NaN  NaN   d5   e5   f5"
      ]
     },
     "execution_count": 17,
     "metadata": {},
     "output_type": "execute_result"
    }
   ],
   "source": [
    "# your code here\n",
    "pd.concat([df1, df2, df3, df4] , axis=1 , sort=False, ignore_index=True)\n",
    "#notice that the index is not the same as the original dataframes. \n",
    "#it is not numbers but in original it is A,B,C,D,E,F for axis 1. \n",
    "#it is continuous numbers for axis 0 but in original it resets."
   ]
  },
  {
   "cell_type": "markdown",
   "metadata": {},
   "source": [
    "## Merging and Joining\n",
    "\n",
    "Pandas has two functions for joining datasets: `merge()` and `join()`. They perform the same task but have different options and syntax. \n",
    "\n",
    "Below is an example of `merge` and `join`.     \n",
    "HINT (uses the column that repeats in both dataframes )"
   ]
  },
  {
   "cell_type": "markdown",
   "metadata": {},
   "source": [
    "https://pandas.pydata.org/docs/reference/api/pandas.DataFrame.merge.html"
   ]
  },
  {
   "cell_type": "code",
   "execution_count": 18,
   "metadata": {},
   "outputs": [],
   "source": [
    "left = pd.DataFrame({'idx': ['i'+str(x) for x in range(3)],\n",
    "                     'A': ['a'+str(x) for x in range(3)],\n",
    "                     'B': ['b'+str(x) for x in range(3)]})\n",
    "\n",
    "\n",
    "right = pd.DataFrame({'idx': ['i'+str(x) for x in range(1,4)],\n",
    "                     'C': ['c'+str(x) for x in range(1,4)],\n",
    "                     'D': ['d'+str(x) for x in range(1,4)]})"
   ]
  },
  {
   "cell_type": "code",
   "execution_count": 19,
   "metadata": {},
   "outputs": [
    {
     "data": {
      "text/html": [
       "<div>\n",
       "<style scoped>\n",
       "    .dataframe tbody tr th:only-of-type {\n",
       "        vertical-align: middle;\n",
       "    }\n",
       "\n",
       "    .dataframe tbody tr th {\n",
       "        vertical-align: top;\n",
       "    }\n",
       "\n",
       "    .dataframe thead th {\n",
       "        text-align: right;\n",
       "    }\n",
       "</style>\n",
       "<table border=\"1\" class=\"dataframe\">\n",
       "  <thead>\n",
       "    <tr style=\"text-align: right;\">\n",
       "      <th></th>\n",
       "      <th>idx</th>\n",
       "      <th>A</th>\n",
       "      <th>B</th>\n",
       "    </tr>\n",
       "  </thead>\n",
       "  <tbody>\n",
       "    <tr>\n",
       "      <th>0</th>\n",
       "      <td>i0</td>\n",
       "      <td>a0</td>\n",
       "      <td>b0</td>\n",
       "    </tr>\n",
       "    <tr>\n",
       "      <th>1</th>\n",
       "      <td>i1</td>\n",
       "      <td>a1</td>\n",
       "      <td>b1</td>\n",
       "    </tr>\n",
       "    <tr>\n",
       "      <th>2</th>\n",
       "      <td>i2</td>\n",
       "      <td>a2</td>\n",
       "      <td>b2</td>\n",
       "    </tr>\n",
       "  </tbody>\n",
       "</table>\n",
       "</div>"
      ],
      "text/plain": [
       "  idx   A   B\n",
       "0  i0  a0  b0\n",
       "1  i1  a1  b1\n",
       "2  i2  a2  b2"
      ]
     },
     "execution_count": 19,
     "metadata": {},
     "output_type": "execute_result"
    }
   ],
   "source": [
    "left"
   ]
  },
  {
   "cell_type": "code",
   "execution_count": 20,
   "metadata": {},
   "outputs": [
    {
     "data": {
      "text/html": [
       "<div>\n",
       "<style scoped>\n",
       "    .dataframe tbody tr th:only-of-type {\n",
       "        vertical-align: middle;\n",
       "    }\n",
       "\n",
       "    .dataframe tbody tr th {\n",
       "        vertical-align: top;\n",
       "    }\n",
       "\n",
       "    .dataframe thead th {\n",
       "        text-align: right;\n",
       "    }\n",
       "</style>\n",
       "<table border=\"1\" class=\"dataframe\">\n",
       "  <thead>\n",
       "    <tr style=\"text-align: right;\">\n",
       "      <th></th>\n",
       "      <th>idx</th>\n",
       "      <th>C</th>\n",
       "      <th>D</th>\n",
       "    </tr>\n",
       "  </thead>\n",
       "  <tbody>\n",
       "    <tr>\n",
       "      <th>0</th>\n",
       "      <td>i1</td>\n",
       "      <td>c1</td>\n",
       "      <td>d1</td>\n",
       "    </tr>\n",
       "    <tr>\n",
       "      <th>1</th>\n",
       "      <td>i2</td>\n",
       "      <td>c2</td>\n",
       "      <td>d2</td>\n",
       "    </tr>\n",
       "    <tr>\n",
       "      <th>2</th>\n",
       "      <td>i3</td>\n",
       "      <td>c3</td>\n",
       "      <td>d3</td>\n",
       "    </tr>\n",
       "  </tbody>\n",
       "</table>\n",
       "</div>"
      ],
      "text/plain": [
       "  idx   C   D\n",
       "0  i1  c1  d1\n",
       "1  i2  c2  d2\n",
       "2  i3  c3  d3"
      ]
     },
     "execution_count": 20,
     "metadata": {},
     "output_type": "execute_result"
    }
   ],
   "source": [
    "right"
   ]
  },
  {
   "cell_type": "markdown",
   "metadata": {},
   "source": [
    "`join` is identical to `merge`. But when using join, we need to explicitly set the index column of the dataframes to join using `set_index`:"
   ]
  },
  {
   "cell_type": "markdown",
   "metadata": {},
   "source": [
    "https://pandas.pydata.org/docs/reference/api/pandas.DataFrame.join.html"
   ]
  },
  {
   "cell_type": "code",
   "execution_count": null,
   "metadata": {},
   "outputs": [
    {
     "name": "stdout",
     "output_type": "stream",
     "text": [
      "      A   B   C   D\n",
      "idx                \n",
      "i1   a1  b1  c1  d1\n",
      "i2   a2  b2  c2  d2\n"
     ]
    }
   ],
   "source": [
    "# your code here\n",
    "# Set the index for both dataframes\n",
    "left_indexed = left.set_index('idx')\n",
    "right_indexed = right.set_index('idx')\n",
    "\n",
    "# Perform the join\n",
    "joined_df = left_indexed.join(right_indexed, how='inner')  # You can use 'inner', 'outer', 'left', or 'right'\n",
    "print(joined_df)"
   ]
  },
  {
   "cell_type": "code",
   "execution_count": 23,
   "metadata": {
    "vscode": {
     "languageId": "markdown"
    }
   },
   "outputs": [
    {
     "data": {
      "text/plain": [
       "\"The `joined_df` is a result of performing an **inner join** between `left_indexed` and `right_indexed` dataframes using their indexes (`idx`). Here's how it resulted in a 2x4 matrix:\\n\\n1. **Inner Join**:\\n    - An inner join keeps only the rows where the indexes match in both dataframes.\\n    - In `left_indexed`, the indexes are `i0`, `i1`, and `i2`.\\n    - In `right_indexed`, the indexes are `i1`, `i2`, and `i3`.\\n    - The common indexes between the two dataframes are `i1` and `i2`.\\n\\n2. **Columns**:\\n    - The resulting dataframe includes all columns from both dataframes.\\n    - `left_indexed` has columns `A` and `B`.\\n    - `right_indexed` has columns `C` and `D`.\\n    - The resulting dataframe has 4 columns: `A`, `B`, `C`, and `D`.\\n\\n3. **Rows**:\\n    - Since only the common indexes `i1` and `i2` are retained, the resulting dataframe has 2 rows.\\n\\nThus, the resulting `joined_df` is a 2x4 matrix with 2 rows (for `i1` and `i2`) and 4 columns (`A`, `B`, `C`, `D`).\""
      ]
     },
     "execution_count": 23,
     "metadata": {},
     "output_type": "execute_result"
    }
   ],
   "source": [
    "\"\"\"The `joined_df` is a result of performing an **inner join** between `left_indexed` and `right_indexed` dataframes using their indexes (`idx`). Here's how it resulted in a 2x4 matrix:\n",
    "\n",
    "1. **Inner Join**:\n",
    "    - An inner join keeps only the rows where the indexes match in both dataframes.\n",
    "    - In `left_indexed`, the indexes are `i0`, `i1`, and `i2`.\n",
    "    - In `right_indexed`, the indexes are `i1`, `i2`, and `i3`.\n",
    "    - The common indexes between the two dataframes are `i1` and `i2`.\n",
    "\n",
    "2. **Columns**:\n",
    "    - The resulting dataframe includes all columns from both dataframes.\n",
    "    - `left_indexed` has columns `A` and `B`.\n",
    "    - `right_indexed` has columns `C` and `D`.\n",
    "    - The resulting dataframe has 4 columns: `A`, `B`, `C`, and `D`.\n",
    "\n",
    "3. **Rows**:\n",
    "    - Since only the common indexes `i1` and `i2` are retained, the resulting dataframe has 2 rows.\n",
    "\n",
    "Thus, the resulting `joined_df` is a 2x4 matrix with 2 rows (for `i1` and `i2`) and 4 columns (`A`, `B`, `C`, `D`).\"\"\""
   ]
  },
  {
   "cell_type": "markdown",
   "metadata": {},
   "source": [
    "And you see, `join` disregards the row of `right` with the unmatching index `i3`. It retains the row of `left` with the unmatching index `i0` but uses `NaN` for the missing data after joining."
   ]
  },
  {
   "cell_type": "markdown",
   "metadata": {},
   "source": [
    "#### There are other options we can explore with the `merge()` and `join()` functions. \n",
    "\n",
    "Specifically, we can specify `how`. This argument in the function tells us whether we are performing an inner, left, right, or outer join.\n",
    "\n",
    "We can also specify a different column for joining in the `merge()` function using the `left_on` and `right_on` arguments. Check out the following documentations if you want to explore more:\n",
    "\n",
    "[pandas.DataFrame.merge](https://pandas.pydata.org/pandas-docs/stable/generated/pandas.DataFrame.merge.html)\n",
    "\n",
    "[pandas.DataFrame.join](https://pandas.pydata.org/pandas-docs/stable/generated/pandas.DataFrame.join.html)"
   ]
  },
  {
   "cell_type": "markdown",
   "metadata": {},
   "source": [
    "## Bonus Question\n",
    "\n",
    "Now if you look back on `merge` and `join`, you realize that in order to perform these functions on a set of dataframes, these dataframes must share a common column as the index. Only rows that have the same index values will be joined. This is similar to the [`join` function in MySQL](https://www.w3schools.com/sql/sql_join.asp), isn't it?\n",
    "\n",
    "The bonus question for you is to figure out how to join and concatenate `df1`, `df2`, `df3`, and `df4` we created at the beginning of this challenge. Your end product should look like this:\n",
    "\n",
    "![df1-2-3-4.png](../images/df1-2-3-4.png)"
   ]
  },
  {
   "cell_type": "code",
   "execution_count": 36,
   "metadata": {},
   "outputs": [],
   "source": [
    "import pandas as pd\n",
    "import numpy as np\n",
    "from IPython.display import display"
   ]
  },
  {
   "cell_type": "code",
   "execution_count": 64,
   "metadata": {},
   "outputs": [
    {
     "name": "stdout",
     "output_type": "stream",
     "text": [
      "    A   B   C   D   E   F\n",
      "0  a0  b0  c0  d0  e0  f0\n",
      "1  a1  b1  c1  d1  e1  f1\n",
      "2  a2  b2  c2  d2  e2  f2\n",
      "3  a3  b3  c3  d3  e3  f3\n",
      "4  a4  b4  c4  d4  e4  f4\n",
      "5  a5  b5  c5  d5  e5  f5\n"
     ]
    }
   ],
   "source": [
    "\n",
    "print(data_concat1.join(data_concat2))\n",
    "\n"
   ]
  }
 ],
 "metadata": {
  "kernelspec": {
   "display_name": "Python 3",
   "language": "python",
   "name": "python3"
  },
  "language_info": {
   "codemirror_mode": {
    "name": "ipython",
    "version": 3
   },
   "file_extension": ".py",
   "mimetype": "text/x-python",
   "name": "python",
   "nbconvert_exporter": "python",
   "pygments_lexer": "ipython3",
   "version": "3.13.3"
  },
  "toc": {
   "base_numbering": 1,
   "nav_menu": {},
   "number_sections": true,
   "sideBar": true,
   "skip_h1_title": false,
   "title_cell": "Table of Contents",
   "title_sidebar": "Contents",
   "toc_cell": false,
   "toc_position": {},
   "toc_section_display": true,
   "toc_window_display": false
  }
 },
 "nbformat": 4,
 "nbformat_minor": 2
}
